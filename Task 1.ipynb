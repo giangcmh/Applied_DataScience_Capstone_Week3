{
    "cells": [
        {
            "metadata": {
                "collapsed": true
            },
            "cell_type": "markdown",
            "source": "### Use the Notebook to build the code to scrape the following Wikipedia page, https://en.wikipedia.org/wiki/List_of_postal_codes_of_Canada:_M, in order to obtain the data that is in the table of postal codes and to transform the data into a pandas dataframe like the one shown below:"
        },
        {
            "metadata": {},
            "cell_type": "code",
            "source": "import pandas as pd # library for data analsysis\npd.set_option('display.max_columns', None)\npd.set_option('display.max_rows', None)\nimport json # library to handle JSON files\n#!conda install -c conda-forge geopy --yes # uncomment this line if you haven't completed the Foursquare API lab\nfrom geopy.geocoders import Nominatim # convert an address into latitude and longitude values\nimport requests # library to handle requests\nfrom pandas.io.json import json_normalize # tranform JSON file into a pandas dataframe\n# Matplotlib and associated plotting modules\nimport matplotlib.cm as cm\nimport matplotlib.colors as colors\n# import k-means from clustering stage\nfrom sklearn.cluster import KMeans\nfrom sklearn.datasets.samples_generator import make_blobs\n#!conda install -c conda-forge folium=0.5.0 --yes # uncomment this line if you haven't completed the Foursquare API lab\nimport folium # map rendering library\nfrom bs4 import BeautifulSoup\nimport lxml\nprint('Libraries imported.')",
            "execution_count": 82,
            "outputs": [
                {
                    "output_type": "stream",
                    "text": "Libraries imported.\n",
                    "name": "stdout"
                }
            ]
        },
        {
            "metadata": {},
            "cell_type": "code",
            "source": "# download data and parse it:\nr = requests.get('https://en.wikipedia.org/wiki/List_of_postal_codes_of_Canada:_M')\nsoup = BeautifulSoup(r.text, 'html.parser')\ntable=soup.find('table', attrs={'class':'wikitable sortable'})\n\n#get headers:\nheaders=table.findAll('th')\nfor i, head in enumerate(headers): headers[i]=str(headers[i]).replace(\"<th>\",\"\").replace(\"</th>\",\"\").replace(\"\\n\",\"\")\n\n#Find all items and skip first one:\nrows=table.findAll('tr')\nrows=rows[1:len(rows)]\n\n# skip all meta symbols and line feeds between rows:\nfor i, row in enumerate(rows): rows[i] = str(rows[i]).replace(\"\\n</td></tr>\",\"\").replace(\"<tr>\\n<td>\",\"\")\n    \n# make dataframe, expand rows and drop the old one:\ndf=pd.DataFrame(rows)\ndf[headers] = df[0].str.split(\"</td>\\n<td>\", n = 2, expand = True) \ndf.drop(columns=[0],inplace=True)\n\n# skip not assigned boroughs:\ndf = df.drop(df[(df.Borough == \"Not assigned\")].index)\ndf = df.drop(df[(df.Borough == \"Not assigned\\n\")].index)\n# give \"Not assigned\" Neighborhoods same name as Borough:\ndf.Neighborhood.replace(\"Not assigned\", df.Borough, inplace=True)\n\n# replace some of text\ndf = df.replace('\\n',' ', regex=True) \ndf = df.replace(' / ',',', regex=True)\n\n# copy Borough value to Neighborhood if NaN:\ndf.Neighborhood.fillna(df.Borough, inplace=True)\n# drop duplicate rows:\ndf=df.drop_duplicates()\n# extract titles from columns\ndf.update(\n    df.Neighborhood.loc[\n        lambda x: x.str.contains('title')\n    ].str.extract('title=\\\"([^\\\"]*)',expand=False))\n\ndf.update(\n    df.Borough.loc[\n        lambda x: x.str.contains('title')\n    ].str.extract('title=\\\"([^\\\"]*)',expand=False))\n\n# delete Toronto annotation from Neighbourhood:\ndf.update(\n    df.Neighborhood.loc[\n        lambda x: x.str.contains('Toronto')\n    ].str.replace(\", Toronto\",\"\"))\ndf.update(\n    df.Neighborhood.loc[\n        lambda x: x.str.contains('Toronto')\n    ].str.replace(\"\\(Toronto\\)\",\"\"))\n\n# combine multiple neighborhoods with the same post code\ndf2 = pd.DataFrame({'Postal code':df['Postal code'].unique()})\ndf2['Borough']=pd.DataFrame(list(set(df['Borough'].loc[df['Postal code'] == x['Postal code']])) for i, x in df2.iterrows())\ndf2['Neighborhood']=pd.Series(list(set(df['Neighborhood'].loc[df['Postal code'] == x['Postal code']])) for i, x in df2.iterrows())\ndf2['Neighborhood']=df2['Neighborhood'].apply(lambda x: ', '.join(x))\ndf2.dtypes\n\ndf2.head()",
            "execution_count": 106,
            "outputs": [
                {
                    "output_type": "execute_result",
                    "execution_count": 106,
                    "data": {
                        "text/plain": "  Postal code            Borough                                Neighborhood\n0        M3A         North York                                    Parkwoods\n1        M4A         North York                             Victoria Village\n2        M5A   Downtown Toronto                     Regent Park,Harbourfront\n3        M6A         North York              Lawrence Manor,Lawrence Heights\n4        M7A   Downtown Toronto   Queen's Park,Ontario Provincial Government",
                        "text/html": "<div>\n<style scoped>\n    .dataframe tbody tr th:only-of-type {\n        vertical-align: middle;\n    }\n\n    .dataframe tbody tr th {\n        vertical-align: top;\n    }\n\n    .dataframe thead th {\n        text-align: right;\n    }\n</style>\n<table border=\"1\" class=\"dataframe\">\n  <thead>\n    <tr style=\"text-align: right;\">\n      <th></th>\n      <th>Postal code</th>\n      <th>Borough</th>\n      <th>Neighborhood</th>\n    </tr>\n  </thead>\n  <tbody>\n    <tr>\n      <th>0</th>\n      <td>M3A</td>\n      <td>North York</td>\n      <td>Parkwoods</td>\n    </tr>\n    <tr>\n      <th>1</th>\n      <td>M4A</td>\n      <td>North York</td>\n      <td>Victoria Village</td>\n    </tr>\n    <tr>\n      <th>2</th>\n      <td>M5A</td>\n      <td>Downtown Toronto</td>\n      <td>Regent Park,Harbourfront</td>\n    </tr>\n    <tr>\n      <th>3</th>\n      <td>M6A</td>\n      <td>North York</td>\n      <td>Lawrence Manor,Lawrence Heights</td>\n    </tr>\n    <tr>\n      <th>4</th>\n      <td>M7A</td>\n      <td>Downtown Toronto</td>\n      <td>Queen's Park,Ontario Provincial Government</td>\n    </tr>\n  </tbody>\n</table>\n</div>"
                    },
                    "metadata": {}
                }
            ]
        },
        {
            "metadata": {},
            "cell_type": "code",
            "source": "df2.shape",
            "execution_count": 108,
            "outputs": [
                {
                    "output_type": "execute_result",
                    "execution_count": 108,
                    "data": {
                        "text/plain": "(103, 3)"
                    },
                    "metadata": {}
                }
            ]
        },
        {
            "metadata": {},
            "cell_type": "code",
            "source": "",
            "execution_count": null,
            "outputs": []
        }
    ],
    "metadata": {
        "kernelspec": {
            "name": "python3",
            "display_name": "Python 3.6",
            "language": "python"
        },
        "language_info": {
            "name": "python",
            "version": "3.6.9",
            "mimetype": "text/x-python",
            "codemirror_mode": {
                "name": "ipython",
                "version": 3
            },
            "pygments_lexer": "ipython3",
            "nbconvert_exporter": "python",
            "file_extension": ".py"
        }
    },
    "nbformat": 4,
    "nbformat_minor": 1
}